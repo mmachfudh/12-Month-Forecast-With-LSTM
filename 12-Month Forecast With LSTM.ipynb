{
 "cells": [
  {
   "cell_type": "code",
   "execution_count": 53,
   "metadata": {},
   "outputs": [],
   "source": [
    "import numpy as np\n",
    "import pandas as pd\n",
    "import matplotlib.pyplot as plt\n",
    "%matplotlib inline\n",
    "from statsmodels.tools.eval_measures import rmse\n",
    "from sklearn.preprocessing import MinMaxScaler\n",
    "from keras.preprocessing.sequence import TimeseriesGenerator\n",
    "from keras.models import Sequential\n",
    "from keras.layers import Dense\n",
    "from keras.layers import LSTM\n",
    "from keras.layers import Dropout\n",
    "import warnings\n",
    "warnings.filterwarnings(\"ignore\")\n",
    "\n",
    "df = pd.read_csv('AirPassengers.csv')"
   ]
  },
  {
   "cell_type": "code",
   "execution_count": 54,
   "metadata": {},
   "outputs": [
    {
     "data": {
      "text/html": [
       "<div>\n",
       "<style scoped>\n",
       "    .dataframe tbody tr th:only-of-type {\n",
       "        vertical-align: middle;\n",
       "    }\n",
       "\n",
       "    .dataframe tbody tr th {\n",
       "        vertical-align: top;\n",
       "    }\n",
       "\n",
       "    .dataframe thead th {\n",
       "        text-align: right;\n",
       "    }\n",
       "</style>\n",
       "<table border=\"1\" class=\"dataframe\">\n",
       "  <thead>\n",
       "    <tr style=\"text-align: right;\">\n",
       "      <th></th>\n",
       "      <th>AirPassengers</th>\n",
       "    </tr>\n",
       "    <tr>\n",
       "      <th>Month</th>\n",
       "      <th></th>\n",
       "    </tr>\n",
       "  </thead>\n",
       "  <tbody>\n",
       "    <tr>\n",
       "      <td>1949-01-01</td>\n",
       "      <td>112</td>\n",
       "    </tr>\n",
       "    <tr>\n",
       "      <td>1949-02-01</td>\n",
       "      <td>118</td>\n",
       "    </tr>\n",
       "    <tr>\n",
       "      <td>1949-03-01</td>\n",
       "      <td>132</td>\n",
       "    </tr>\n",
       "    <tr>\n",
       "      <td>1949-04-01</td>\n",
       "      <td>129</td>\n",
       "    </tr>\n",
       "    <tr>\n",
       "      <td>1949-05-01</td>\n",
       "      <td>121</td>\n",
       "    </tr>\n",
       "    <tr>\n",
       "      <td>...</td>\n",
       "      <td>...</td>\n",
       "    </tr>\n",
       "    <tr>\n",
       "      <td>1960-08-01</td>\n",
       "      <td>606</td>\n",
       "    </tr>\n",
       "    <tr>\n",
       "      <td>1960-09-01</td>\n",
       "      <td>508</td>\n",
       "    </tr>\n",
       "    <tr>\n",
       "      <td>1960-10-01</td>\n",
       "      <td>461</td>\n",
       "    </tr>\n",
       "    <tr>\n",
       "      <td>1960-11-01</td>\n",
       "      <td>390</td>\n",
       "    </tr>\n",
       "    <tr>\n",
       "      <td>1960-12-01</td>\n",
       "      <td>432</td>\n",
       "    </tr>\n",
       "  </tbody>\n",
       "</table>\n",
       "<p>144 rows × 1 columns</p>\n",
       "</div>"
      ],
      "text/plain": [
       "            AirPassengers\n",
       "Month                    \n",
       "1949-01-01            112\n",
       "1949-02-01            118\n",
       "1949-03-01            132\n",
       "1949-04-01            129\n",
       "1949-05-01            121\n",
       "...                   ...\n",
       "1960-08-01            606\n",
       "1960-09-01            508\n",
       "1960-10-01            461\n",
       "1960-11-01            390\n",
       "1960-12-01            432\n",
       "\n",
       "[144 rows x 1 columns]"
      ]
     },
     "execution_count": 54,
     "metadata": {},
     "output_type": "execute_result"
    }
   ],
   "source": [
    "df.Month = pd.to_datetime(df.Month)\n",
    "df = df.set_index(\"Month\")\n",
    "df"
   ]
  },
  {
   "cell_type": "code",
   "execution_count": 55,
   "metadata": {},
   "outputs": [],
   "source": [
    "train, test = df[:-12], df[-12:]"
   ]
  },
  {
   "cell_type": "code",
   "execution_count": 56,
   "metadata": {},
   "outputs": [],
   "source": [
    "scaler = MinMaxScaler()\n",
    "scaler.fit(train)\n",
    "train = scaler.transform(train)\n",
    "test = scaler.transform(test)"
   ]
  },
  {
   "cell_type": "code",
   "execution_count": 57,
   "metadata": {},
   "outputs": [],
   "source": [
    "n_input = 12\n",
    "n_features = 1\n",
    "generator = TimeseriesGenerator(train, train, length=n_input, batch_size=6)"
   ]
  },
  {
   "cell_type": "code",
   "execution_count": 58,
   "metadata": {},
   "outputs": [],
   "source": [
    "model = Sequential()\n",
    "model.add(LSTM(200, activation='relu', input_shape=(n_input, n_features)))\n",
    "model.add(Dropout(0.15))\n",
    "model.add(Dense(1))\n",
    "model.compile(optimizer='adam', loss='mse')"
   ]
  },
  {
   "cell_type": "code",
   "execution_count": 59,
   "metadata": {
    "scrolled": true
   },
   "outputs": [
    {
     "name": "stdout",
     "output_type": "stream",
     "text": [
      "Epoch 1/90\n",
      "20/20 [==============================] - 0s 24ms/step - loss: 0.0662\n",
      "Epoch 2/90\n",
      "20/20 [==============================] - 0s 11ms/step - loss: 0.0162\n",
      "Epoch 3/90\n",
      "20/20 [==============================] - 0s 15ms/step - loss: 0.0122\n",
      "Epoch 4/90\n",
      "20/20 [==============================] - 0s 15ms/step - loss: 0.0098\n",
      "Epoch 5/90\n",
      "20/20 [==============================] - 0s 16ms/step - loss: 0.0095\n",
      "Epoch 6/90\n",
      "20/20 [==============================] - 0s 14ms/step - loss: 0.0096\n",
      "Epoch 7/90\n",
      "20/20 [==============================] - 0s 11ms/step - loss: 0.0102\n",
      "Epoch 8/90\n",
      "20/20 [==============================] - 0s 14ms/step - loss: 0.0093\n",
      "Epoch 9/90\n",
      "20/20 [==============================] - 0s 13ms/step - loss: 0.0082\n",
      "Epoch 10/90\n",
      "20/20 [==============================] - 0s 15ms/step - loss: 0.0102\n",
      "Epoch 11/90\n",
      "20/20 [==============================] - 0s 14ms/step - loss: 0.0084\n",
      "Epoch 12/90\n",
      "20/20 [==============================] - 0s 14ms/step - loss: 0.0087\n",
      "Epoch 13/90\n",
      "20/20 [==============================] - 0s 13ms/step - loss: 0.0071\n",
      "Epoch 14/90\n",
      "20/20 [==============================] - 0s 10ms/step - loss: 0.0075\n",
      "Epoch 15/90\n",
      "20/20 [==============================] - 0s 10ms/step - loss: 0.0056\n",
      "Epoch 16/90\n",
      "20/20 [==============================] - 0s 10ms/step - loss: 0.0084\n",
      "Epoch 17/90\n",
      "20/20 [==============================] - 0s 10ms/step - loss: 0.0073\n",
      "Epoch 18/90\n",
      "20/20 [==============================] - 0s 10ms/step - loss: 0.0094\n",
      "Epoch 19/90\n",
      "20/20 [==============================] - 0s 10ms/step - loss: 0.0080\n",
      "Epoch 20/90\n",
      "20/20 [==============================] - 0s 10ms/step - loss: 0.0084\n",
      "Epoch 21/90\n",
      "20/20 [==============================] - 0s 10ms/step - loss: 0.0055\n",
      "Epoch 22/90\n",
      "20/20 [==============================] - 0s 9ms/step - loss: 0.0051\n",
      "Epoch 23/90\n",
      "20/20 [==============================] - 0s 11ms/step - loss: 0.0042\n",
      "Epoch 24/90\n",
      "20/20 [==============================] - 0s 15ms/step - loss: 0.0055\n",
      "Epoch 25/90\n",
      "20/20 [==============================] - 0s 11ms/step - loss: 0.0083\n",
      "Epoch 26/90\n",
      "20/20 [==============================] - 0s 14ms/step - loss: 0.0052\n",
      "Epoch 27/90\n",
      "20/20 [==============================] - 0s 15ms/step - loss: 0.0030\n",
      "Epoch 28/90\n",
      "20/20 [==============================] - 0s 11ms/step - loss: 0.0065\n",
      "Epoch 29/90\n",
      "20/20 [==============================] - 0s 13ms/step - loss: 0.0036\n",
      "Epoch 30/90\n",
      "20/20 [==============================] - 0s 15ms/step - loss: 0.0041\n",
      "Epoch 31/90\n",
      "20/20 [==============================] - 0s 14ms/step - loss: 0.0036\n",
      "Epoch 32/90\n",
      "20/20 [==============================] - 0s 13ms/step - loss: 0.0052\n",
      "Epoch 33/90\n",
      "20/20 [==============================] - 0s 14ms/step - loss: 0.0049\n",
      "Epoch 34/90\n",
      "20/20 [==============================] - 0s 14ms/step - loss: 0.0049\n",
      "Epoch 35/90\n",
      "20/20 [==============================] - 0s 14ms/step - loss: 0.0069\n",
      "Epoch 36/90\n",
      "20/20 [==============================] - 0s 14ms/step - loss: 0.0043\n",
      "Epoch 37/90\n",
      "20/20 [==============================] - 0s 16ms/step - loss: 0.0037\n",
      "Epoch 38/90\n",
      "20/20 [==============================] - 0s 12ms/step - loss: 0.0024\n",
      "Epoch 39/90\n",
      "20/20 [==============================] - 0s 13ms/step - loss: 0.0026\n",
      "Epoch 40/90\n",
      "20/20 [==============================] - 0s 14ms/step - loss: 0.0034\n",
      "Epoch 41/90\n",
      "20/20 [==============================] - 0s 11ms/step - loss: 0.0035\n",
      "Epoch 42/90\n",
      "20/20 [==============================] - 0s 13ms/step - loss: 0.0031\n",
      "Epoch 43/90\n",
      "20/20 [==============================] - 0s 14ms/step - loss: 0.0020\n",
      "Epoch 44/90\n",
      "20/20 [==============================] - 0s 13ms/step - loss: 0.0071\n",
      "Epoch 45/90\n",
      "20/20 [==============================] - 0s 16ms/step - loss: 0.0115\n",
      "Epoch 46/90\n",
      "20/20 [==============================] - 0s 14ms/step - loss: 0.0061\n",
      "Epoch 47/90\n",
      "20/20 [==============================] - 0s 15ms/step - loss: 0.0038\n",
      "Epoch 48/90\n",
      "20/20 [==============================] - 0s 14ms/step - loss: 0.0032\n",
      "Epoch 49/90\n",
      "20/20 [==============================] - 0s 15ms/step - loss: 0.0031\n",
      "Epoch 50/90\n",
      "20/20 [==============================] - 0s 14ms/step - loss: 0.0033\n",
      "Epoch 51/90\n",
      "20/20 [==============================] - 0s 15ms/step - loss: 0.0030\n",
      "Epoch 52/90\n",
      "20/20 [==============================] - 0s 15ms/step - loss: 0.0030\n",
      "Epoch 53/90\n",
      "20/20 [==============================] - 0s 13ms/step - loss: 0.0032\n",
      "Epoch 54/90\n",
      "20/20 [==============================] - 0s 13ms/step - loss: 0.0025\n",
      "Epoch 55/90\n",
      "20/20 [==============================] - 0s 13ms/step - loss: 0.0034\n",
      "Epoch 56/90\n",
      "20/20 [==============================] - 0s 13ms/step - loss: 0.0034\n",
      "Epoch 57/90\n",
      "20/20 [==============================] - 0s 14ms/step - loss: 0.0034\n",
      "Epoch 58/90\n",
      "20/20 [==============================] - 0s 11ms/step - loss: 0.0025\n",
      "Epoch 59/90\n",
      "20/20 [==============================] - 0s 13ms/step - loss: 0.0018\n",
      "Epoch 60/90\n",
      "20/20 [==============================] - 0s 10ms/step - loss: 0.0040\n",
      "Epoch 61/90\n",
      "20/20 [==============================] - 0s 14ms/step - loss: 0.0069\n",
      "Epoch 62/90\n",
      "20/20 [==============================] - 0s 13ms/step - loss: 0.0038\n",
      "Epoch 63/90\n",
      "20/20 [==============================] - 0s 14ms/step - loss: 0.0037\n",
      "Epoch 64/90\n",
      "20/20 [==============================] - 0s 14ms/step - loss: 0.0024\n",
      "Epoch 65/90\n",
      "20/20 [==============================] - 0s 13ms/step - loss: 0.0025\n",
      "Epoch 66/90\n",
      "20/20 [==============================] - 0s 13ms/step - loss: 0.0035\n",
      "Epoch 67/90\n",
      "20/20 [==============================] - 0s 14ms/step - loss: 0.0032\n",
      "Epoch 68/90\n",
      "20/20 [==============================] - 0s 10ms/step - loss: 0.0070\n",
      "Epoch 69/90\n",
      "20/20 [==============================] - 0s 13ms/step - loss: 0.0040\n",
      "Epoch 70/90\n",
      "20/20 [==============================] - 0s 14ms/step - loss: 0.0031\n",
      "Epoch 71/90\n",
      "20/20 [==============================] - 0s 14ms/step - loss: 0.0025\n",
      "Epoch 72/90\n",
      "20/20 [==============================] - 0s 14ms/step - loss: 0.0027\n",
      "Epoch 73/90\n",
      "20/20 [==============================] - 0s 15ms/step - loss: 0.0025\n",
      "Epoch 74/90\n",
      "20/20 [==============================] - 0s 16ms/step - loss: 0.0024\n",
      "Epoch 75/90\n",
      "20/20 [==============================] - 0s 14ms/step - loss: 0.0033\n",
      "Epoch 76/90\n",
      "20/20 [==============================] - 0s 14ms/step - loss: 0.0033\n",
      "Epoch 77/90\n",
      "20/20 [==============================] - 0s 15ms/step - loss: 0.0032\n",
      "Epoch 78/90\n",
      "20/20 [==============================] - 0s 14ms/step - loss: 0.0021\n",
      "Epoch 79/90\n",
      "20/20 [==============================] - 0s 16ms/step - loss: 0.0029\n",
      "Epoch 80/90\n",
      "20/20 [==============================] - 0s 13ms/step - loss: 0.0022\n",
      "Epoch 81/90\n",
      "20/20 [==============================] - 0s 14ms/step - loss: 0.0027\n",
      "Epoch 82/90\n",
      "20/20 [==============================] - 0s 14ms/step - loss: 0.0028\n",
      "Epoch 83/90\n",
      "20/20 [==============================] - 0s 14ms/step - loss: 0.0029\n",
      "Epoch 84/90\n",
      "20/20 [==============================] - 0s 14ms/step - loss: 0.0029\n",
      "Epoch 85/90\n",
      "20/20 [==============================] - 0s 13ms/step - loss: 0.0033\n",
      "Epoch 86/90\n",
      "20/20 [==============================] - 0s 14ms/step - loss: 0.0029\n",
      "Epoch 87/90\n",
      "20/20 [==============================] - 0s 14ms/step - loss: 0.0023\n",
      "Epoch 88/90\n",
      "20/20 [==============================] - 0s 13ms/step - loss: 0.0024\n",
      "Epoch 89/90\n",
      "20/20 [==============================] - 0s 13ms/step - loss: 0.0036\n",
      "Epoch 90/90\n",
      "20/20 [==============================] - 0s 13ms/step - loss: 0.0052\n"
     ]
    },
    {
     "data": {
      "text/plain": [
       "<keras.callbacks.callbacks.History at 0x2394c5e4fd0>"
      ]
     },
     "execution_count": 59,
     "metadata": {},
     "output_type": "execute_result"
    }
   ],
   "source": [
    "model.fit_generator(generator,epochs=90)"
   ]
  },
  {
   "cell_type": "code",
   "execution_count": 60,
   "metadata": {},
   "outputs": [
    {
     "data": {
      "text/plain": [
       "array([[[0.56263736],\n",
       "        [0.52307692],\n",
       "        [0.66373626],\n",
       "        [0.64175824],\n",
       "        [0.69450549],\n",
       "        [0.80879121],\n",
       "        [0.97582418],\n",
       "        [1.        ],\n",
       "        [0.78901099],\n",
       "        [0.66593407],\n",
       "        [0.56703297],\n",
       "        [0.66153846]]])"
      ]
     },
     "execution_count": 60,
     "metadata": {},
     "output_type": "execute_result"
    }
   ],
   "source": [
    "pred_list = []\n",
    "\n",
    "batch = train[-n_input:].reshape((1, n_input, n_features))\n",
    "batch"
   ]
  },
  {
   "cell_type": "code",
   "execution_count": 61,
   "metadata": {},
   "outputs": [
    {
     "data": {
      "text/plain": [
       "[array([0.6226184], dtype=float32),\n",
       " array([0.637746], dtype=float32),\n",
       " array([0.68358153], dtype=float32),\n",
       " array([0.69327193], dtype=float32),\n",
       " array([0.7629736], dtype=float32),\n",
       " array([0.912593], dtype=float32),\n",
       " array([1.0492152], dtype=float32),\n",
       " array([1.0349419], dtype=float32),\n",
       " array([0.8752669], dtype=float32),\n",
       " array([0.74939406], dtype=float32),\n",
       " array([0.71051764], dtype=float32),\n",
       " array([0.7230561], dtype=float32)]"
      ]
     },
     "execution_count": 61,
     "metadata": {},
     "output_type": "execute_result"
    }
   ],
   "source": [
    "for i in range(n_input):   \n",
    "    pred_list.append(model.predict(batch)[0]) \n",
    "    batch = np.append(batch[:,1:,:],[[pred_list[i]]],axis=1)\n",
    "\n",
    "pred_list"
   ]
  },
  {
   "cell_type": "code",
   "execution_count": 64,
   "metadata": {},
   "outputs": [],
   "source": [
    "df_predict = pd.DataFrame(scaler.inverse_transform(pred_list),index=df[-n_input:].index, columns=['Prediction'])\n",
    "\n",
    "df_test = pd.concat([df,df_predict], axis=1)"
   ]
  },
  {
   "cell_type": "code",
   "execution_count": 63,
   "metadata": {},
   "outputs": [
    {
     "name": "stderr",
     "output_type": "stream",
     "text": [
      "No handles with labels found to put in legend.\n"
     ]
    },
    {
     "data": {
      "image/png": "[encoded data removed]",
      "text/plain": [
       "<Figure size 1440x360 with 1 Axes>"
      ]
     },
     "metadata": {
      "needs_background": "light"
     },
     "output_type": "display_data"
    }
   ],
   "source": [
    "plt.figure(figsize=(20, 5))\n",
    "plt.plot(df_test.index, df_test['AirPassengers'])\n",
    "plt.plot(df_test.index, df_test['Prediction'], color='r')\n",
    "plt.legend(loc='best', fontsize='xx-large')\n",
    "plt.xticks(fontsize=18)\n",
    "plt.yticks(fontsize=16)\n",
    "plt.show()"
   ]
  },
  {
   "cell_type": "code",
   "execution_count": 65,
   "metadata": {},
   "outputs": [
    {
     "name": "stdout",
     "output_type": "stream",
     "text": [
      "rmse:  [25.19330668]\n"
     ]
    }
   ],
   "source": [
    "pred_actual_rmse = rmse(df_test.iloc[-n_input:, [0]], df_test.iloc[-n_input:, [1]])\n",
    "print(\"rmse: \", pred_actual_rmse)"
   ]
  },
  {
   "cell_type": "code",
   "execution_count": 66,
   "metadata": {},
   "outputs": [],
   "source": [
    "train = df"
   ]
  },
  {
   "cell_type": "code",
   "execution_count": 67,
   "metadata": {},
   "outputs": [],
   "source": [
    "scaler.fit(train)\n",
    "train = scaler.transform(train)"
   ]
  },
  {
   "cell_type": "code",
   "execution_count": 68,
   "metadata": {},
   "outputs": [],
   "source": [
    "n_input = 12\n",
    "n_features = 1\n",
    "generator = TimeseriesGenerator(train, train, length=n_input, batch_size=6)"
   ]
  },
  {
   "cell_type": "code",
   "execution_count": 69,
   "metadata": {},
   "outputs": [
    {
     "name": "stdout",
     "output_type": "stream",
     "text": [
      "Epoch 1/90\n",
      "22/22 [==============================] - 0s 11ms/step - loss: 0.0023\n",
      "Epoch 2/90\n",
      "22/22 [==============================] - 0s 10ms/step - loss: 0.0033\n",
      "Epoch 3/90\n",
      "22/22 [==============================] - 0s 9ms/step - loss: 0.0020\n",
      "Epoch 4/90\n",
      "22/22 [==============================] - 0s 10ms/step - loss: 0.0022\n",
      "Epoch 5/90\n",
      "22/22 [==============================] - 0s 10ms/step - loss: 0.0017\n",
      "Epoch 6/90\n",
      "22/22 [==============================] - 0s 10ms/step - loss: 0.0023\n",
      "Epoch 7/90\n",
      "22/22 [==============================] - 0s 10ms/step - loss: 0.0019\n",
      "Epoch 8/90\n",
      "22/22 [==============================] - 0s 10ms/step - loss: 0.0031\n",
      "Epoch 9/90\n",
      "22/22 [==============================] - 0s 10ms/step - loss: 0.0016\n",
      "Epoch 10/90\n",
      "22/22 [==============================] - 0s 10ms/step - loss: 0.0020\n",
      "Epoch 11/90\n",
      "22/22 [==============================] - 0s 9ms/step - loss: 0.0027\n",
      "Epoch 12/90\n",
      "22/22 [==============================] - 0s 10ms/step - loss: 0.0037\n",
      "Epoch 13/90\n",
      "22/22 [==============================] - 0s 10ms/step - loss: 0.0018\n",
      "Epoch 14/90\n",
      "22/22 [==============================] - 0s 10ms/step - loss: 0.0029\n",
      "Epoch 15/90\n",
      "22/22 [==============================] - 0s 10ms/step - loss: 0.0019\n",
      "Epoch 16/90\n",
      "22/22 [==============================] - 0s 10ms/step - loss: 0.0020\n",
      "Epoch 17/90\n",
      "22/22 [==============================] - 0s 10ms/step - loss: 0.0021\n",
      "Epoch 18/90\n",
      "22/22 [==============================] - 0s 10ms/step - loss: 0.0014\n",
      "Epoch 19/90\n",
      "22/22 [==============================] - 0s 9ms/step - loss: 0.0016\n",
      "Epoch 20/90\n",
      "22/22 [==============================] - 0s 9ms/step - loss: 0.0016\n",
      "Epoch 21/90\n",
      "22/22 [==============================] - 0s 10ms/step - loss: 0.0018\n",
      "Epoch 22/90\n",
      "22/22 [==============================] - 0s 10ms/step - loss: 0.0021\n",
      "Epoch 23/90\n",
      "22/22 [==============================] - 0s 10ms/step - loss: 0.0014\n",
      "Epoch 24/90\n",
      "22/22 [==============================] - 0s 10ms/step - loss: 0.0019\n",
      "Epoch 25/90\n",
      "22/22 [==============================] - 0s 10ms/step - loss: 0.0030\n",
      "Epoch 26/90\n",
      "22/22 [==============================] - 0s 10ms/step - loss: 0.0021\n",
      "Epoch 27/90\n",
      "22/22 [==============================] - 0s 10ms/step - loss: 0.0020\n",
      "Epoch 28/90\n",
      "22/22 [==============================] - 0s 10ms/step - loss: 0.0015\n",
      "Epoch 29/90\n",
      "22/22 [==============================] - 0s 10ms/step - loss: 0.0024\n",
      "Epoch 30/90\n",
      "22/22 [==============================] - 0s 10ms/step - loss: 0.0026\n",
      "Epoch 31/90\n",
      "22/22 [==============================] - 0s 10ms/step - loss: 0.0013\n",
      "Epoch 32/90\n",
      "22/22 [==============================] - 0s 10ms/step - loss: 0.0019\n",
      "Epoch 33/90\n",
      "22/22 [==============================] - 0s 10ms/step - loss: 0.0028\n",
      "Epoch 34/90\n",
      "22/22 [==============================] - 0s 13ms/step - loss: 0.0053\n",
      "Epoch 35/90\n",
      "22/22 [==============================] - 0s 13ms/step - loss: 0.0026\n",
      "Epoch 36/90\n",
      "22/22 [==============================] - 0s 13ms/step - loss: 0.0019\n",
      "Epoch 37/90\n",
      "22/22 [==============================] - 0s 12ms/step - loss: 0.0020\n",
      "Epoch 38/90\n",
      "22/22 [==============================] - 0s 13ms/step - loss: 0.0023\n",
      "Epoch 39/90\n",
      "22/22 [==============================] - 0s 13ms/step - loss: 0.0018\n",
      "Epoch 40/90\n",
      "22/22 [==============================] - 0s 13ms/step - loss: 0.0021\n",
      "Epoch 41/90\n",
      "22/22 [==============================] - 0s 11ms/step - loss: 0.0031\n",
      "Epoch 42/90\n",
      "22/22 [==============================] - 0s 12ms/step - loss: 0.0027\n",
      "Epoch 43/90\n",
      "22/22 [==============================] - 0s 11ms/step - loss: 0.0017\n",
      "Epoch 44/90\n",
      "22/22 [==============================] - 0s 12ms/step - loss: 0.0012\n",
      "Epoch 45/90\n",
      "22/22 [==============================] - 0s 10ms/step - loss: 0.0014\n",
      "Epoch 46/90\n",
      "22/22 [==============================] - 0s 12ms/step - loss: 0.0025\n",
      "Epoch 47/90\n",
      "22/22 [==============================] - 0s 10ms/step - loss: 0.0020\n",
      "Epoch 48/90\n",
      "22/22 [==============================] - 0s 11ms/step - loss: 0.0019\n",
      "Epoch 49/90\n",
      "22/22 [==============================] - 0s 12ms/step - loss: 0.0016\n",
      "Epoch 50/90\n",
      "22/22 [==============================] - 0s 12ms/step - loss: 0.0016\n",
      "Epoch 51/90\n",
      "22/22 [==============================] - 0s 12ms/step - loss: 0.0014\n",
      "Epoch 52/90\n",
      "22/22 [==============================] - 0s 14ms/step - loss: 0.0020\n",
      "Epoch 53/90\n",
      "22/22 [==============================] - 0s 13ms/step - loss: 0.0013\n",
      "Epoch 54/90\n",
      "22/22 [==============================] - 0s 17ms/step - loss: 0.0024\n",
      "Epoch 55/90\n",
      "22/22 [==============================] - 0s 11ms/step - loss: 0.0020\n",
      "Epoch 56/90\n",
      "22/22 [==============================] - 0s 14ms/step - loss: 0.0021\n",
      "Epoch 57/90\n",
      "22/22 [==============================] - 0s 13ms/step - loss: 0.0015\n",
      "Epoch 58/90\n",
      "22/22 [==============================] - 0s 11ms/step - loss: 0.0013\n",
      "Epoch 59/90\n",
      "22/22 [==============================] - 0s 11ms/step - loss: 0.0026\n",
      "Epoch 60/90\n",
      "22/22 [==============================] - 0s 13ms/step - loss: 0.0017\n",
      "Epoch 61/90\n",
      "22/22 [==============================] - 0s 14ms/step - loss: 0.0017\n",
      "Epoch 62/90\n",
      "22/22 [==============================] - 0s 14ms/step - loss: 0.0020\n",
      "Epoch 63/90\n",
      "22/22 [==============================] - 0s 11ms/step - loss: 0.0024\n",
      "Epoch 64/90\n",
      "22/22 [==============================] - 0s 15ms/step - loss: 0.0038\n",
      "Epoch 65/90\n",
      "22/22 [==============================] - 0s 15ms/step - loss: 0.0032\n",
      "Epoch 66/90\n",
      "22/22 [==============================] - 0s 11ms/step - loss: 0.0020\n",
      "Epoch 67/90\n",
      "22/22 [==============================] - 0s 14ms/step - loss: 0.0018\n",
      "Epoch 68/90\n",
      "22/22 [==============================] - 0s 16ms/step - loss: 0.0018\n",
      "Epoch 69/90\n",
      "22/22 [==============================] - 0s 13ms/step - loss: 0.0025\n",
      "Epoch 70/90\n",
      "22/22 [==============================] - 0s 14ms/step - loss: 0.0029\n",
      "Epoch 71/90\n",
      "22/22 [==============================] - 0s 11ms/step - loss: 0.0018\n",
      "Epoch 72/90\n",
      "22/22 [==============================] - 0s 13ms/step - loss: 0.0014\n",
      "Epoch 73/90\n",
      "22/22 [==============================] - 0s 14ms/step - loss: 0.0017\n",
      "Epoch 74/90\n",
      "22/22 [==============================] - 0s 13ms/step - loss: 0.0015\n",
      "Epoch 75/90\n",
      "22/22 [==============================] - 0s 14ms/step - loss: 0.0013\n",
      "Epoch 76/90\n",
      "22/22 [==============================] - 0s 11ms/step - loss: 0.0011\n",
      "Epoch 77/90\n",
      "22/22 [==============================] - 0s 13ms/step - loss: 0.0017\n",
      "Epoch 78/90\n",
      "22/22 [==============================] - 0s 13ms/step - loss: 0.0018\n",
      "Epoch 79/90\n",
      "22/22 [==============================] - 0s 10ms/step - loss: 0.0018\n",
      "Epoch 80/90\n",
      "22/22 [==============================] - 0s 10ms/step - loss: 0.0014\n",
      "Epoch 81/90\n",
      "22/22 [==============================] - 0s 11ms/step - loss: 0.0012\n",
      "Epoch 82/90\n",
      "22/22 [==============================] - 0s 15ms/step - loss: 0.0019\n",
      "Epoch 83/90\n",
      "22/22 [==============================] - 0s 13ms/step - loss: 0.0018\n",
      "Epoch 84/90\n",
      "22/22 [==============================] - 0s 13ms/step - loss: 0.0018\n",
      "Epoch 85/90\n",
      "22/22 [==============================] - 0s 10ms/step - loss: 0.0024\n",
      "Epoch 86/90\n",
      "22/22 [==============================] - 0s 10ms/step - loss: 0.0020\n",
      "Epoch 87/90\n",
      "22/22 [==============================] - 0s 10ms/step - loss: 0.0018\n",
      "Epoch 88/90\n",
      "22/22 [==============================] - 0s 15ms/step - loss: 0.0016\n",
      "Epoch 89/90\n",
      "22/22 [==============================] - 0s 12ms/step - loss: 0.0018\n",
      "Epoch 90/90\n",
      "22/22 [==============================] - 0s 13ms/step - loss: 0.0015\n"
     ]
    },
    {
     "data": {
      "text/plain": [
       "<keras.callbacks.callbacks.History at 0x2394f2bdda0>"
      ]
     },
     "execution_count": 69,
     "metadata": {},
     "output_type": "execute_result"
    }
   ],
   "source": [
    "model.fit_generator(generator,epochs=90)"
   ]
  },
  {
   "cell_type": "code",
   "execution_count": 70,
   "metadata": {},
   "outputs": [],
   "source": [
    "pred_list = []\n",
    "\n",
    "batch = train[-n_input:].reshape((1, n_input, n_features))\n",
    "\n",
    "for i in range(n_input):   \n",
    "    pred_list.append(model.predict(batch)[0]) \n",
    "    batch = np.append(batch[:,1:,:],[[pred_list[i]]],axis=1)"
   ]
  },
  {
   "cell_type": "code",
   "execution_count": 71,
   "metadata": {},
   "outputs": [],
   "source": [
    "from pandas.tseries.offsets import DateOffset\n",
    "add_dates = [df.index[-1] + DateOffset(months=x) for x in range(0,13) ]\n",
    "future_dates = pd.DataFrame(index=add_dates[1:],columns=df.columns)"
   ]
  },
  {
   "cell_type": "code",
   "execution_count": 72,
   "metadata": {},
   "outputs": [],
   "source": [
    "df_predict = pd.DataFrame(scaler.inverse_transform(pred_list),\n",
    "                          index=future_dates[-n_input:].index, columns=['Prediction'])\n",
    "\n",
    "df_proj = pd.concat([df,df_predict], axis=1)"
   ]
  },
  {
   "cell_type": "code",
   "execution_count": 73,
   "metadata": {},
   "outputs": [
    {
     "name": "stderr",
     "output_type": "stream",
     "text": [
      "No handles with labels found to put in legend.\n"
     ]
    },
    {
     "data": {
      "image/png": "[encoded data removed]",
      "text/plain": [
       "<Figure size 1440x360 with 1 Axes>"
      ]
     },
     "metadata": {
      "needs_background": "light"
     },
     "output_type": "display_data"
    }
   ],
   "source": [
    "plt.figure(figsize=(20, 5))\n",
    "plt.plot(df_proj.index, df_proj['AirPassengers'])\n",
    "plt.plot(df_proj.index, df_proj['Prediction'], color='r')\n",
    "plt.legend(loc='best', fontsize='xx-large')\n",
    "plt.xticks(fontsize=18)\n",
    "plt.yticks(fontsize=16)\n",
    "plt.show()"
   ]
  },
  {
   "cell_type": "code",
   "execution_count": null,
   "metadata": {},
   "outputs": [],
   "source": []
  }
 ],
 "metadata": {
  "kernelspec": {
   "display_name": "Python 3",
   "language": "python",
   "name": "python3"
  },
  "language_info": {
   "codemirror_mode": {
    "name": "ipython",
    "version": 3
   },
   "file_extension": ".py",
   "mimetype": "text/x-python",
   "name": "python",
   "nbconvert_exporter": "python",
   "pygments_lexer": "ipython3",
   "version": "3.7.3"
  }
 },
 "nbformat": 4,
 "nbformat_minor": 2
}
